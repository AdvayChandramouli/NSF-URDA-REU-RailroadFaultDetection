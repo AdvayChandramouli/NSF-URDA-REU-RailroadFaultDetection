{
 "cells": [
  {
   "cell_type": "code",
   "execution_count": null,
   "id": "54cc1f72",
   "metadata": {},
   "outputs": [
    {
     "name": "stdout",
     "output_type": "stream",
     "text": [
      "True\n",
      "NVIDIA GeForce GTX 1650 Ti\n"
     ]
    }
   ],
   "source": [
    "import torch\n",
    "print(torch.cuda.is_available())          # should return: True\n",
    "print(torch.cuda.get_device_name(0))      # should return: 'NVIDIA GeForce GTX 1650 Ti'"
   ]
  }
 ],
 "metadata": {
  "kernelspec": {
   "display_name": "nsf-reu-railroads",
   "language": "python",
   "name": "python3"
  },
  "language_info": {
   "codemirror_mode": {
    "name": "ipython",
    "version": 3
   },
   "file_extension": ".py",
   "mimetype": "text/x-python",
   "name": "python",
   "nbconvert_exporter": "python",
   "pygments_lexer": "ipython3",
   "version": "3.11.11"
  }
 },
 "nbformat": 4,
 "nbformat_minor": 5
}
